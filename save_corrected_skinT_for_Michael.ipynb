{
 "cells": [
  {
   "cell_type": "code",
   "execution_count": 5,
   "id": "7b220eaa-f28b-41cd-834b-e78be6d176a2",
   "metadata": {},
   "outputs": [],
   "source": [
    "import matplotlib.pyplot as plt\n",
    "from datetime import datetime as dt\n",
    "\n",
    "import numpy as np\n",
    "import netCDF4 as nc\n",
    "from scipy import interpolate, stats\n",
    "# from scipy import interpolate\n",
    "import glob\n",
    "from netCDF4 import Dataset\n",
    "import csv"
   ]
  },
  {
   "cell_type": "code",
   "execution_count": 3,
   "id": "639980b1-f76d-42ba-b8ce-edf28b734841",
   "metadata": {},
   "outputs": [],
   "source": [
    "def load_netcdf(filepath, in_vars):\n",
    "    \"\"\" open netcdf file, load variables (in_vars should be a list) and\n",
    "        output dictionary of variables\"\"\"\n",
    "\n",
    "    out_vars = {}\n",
    "\n",
    "    open_netcdf = Dataset(filepath, mode = 'r')\n",
    "    if len(in_vars)>0:\n",
    "        for var in in_vars:\n",
    "            out_vars[var] = open_netcdf.variables[var][:]\n",
    "    else:\n",
    "        for var in open_netcdf.variables.keys():\n",
    "            out_vars[var] = open_netcdf.variables[var][:]\n",
    "\n",
    "    try:\n",
    "        out_vars['time_unit'] = open_netcdf.variables['time'].units\n",
    "    except:\n",
    "        None\n",
    "    open_netcdf.close()\n",
    "\n",
    "    return out_vars"
   ]
  },
  {
   "cell_type": "code",
   "execution_count": 7,
   "id": "60b5c26b-0945-484d-bd68-24e1bb85bc60",
   "metadata": {
    "scrolled": true
   },
   "outputs": [
    {
     "name": "stdout",
     "output_type": "stream",
     "text": [
      "/psd3data/arctic/raven_process/asfs/2_level_product/seb.level2.0.melt-sleighsfs.10min.20240520.000000.nc\n",
      "/psd3data/arctic/raven_process/asfs/2_level_product/seb.level2.0.melt-sleighsfs.10min.20240521.000000.nc\n",
      "/psd3data/arctic/raven_process/asfs/2_level_product/seb.level2.0.melt-sleighsfs.10min.20240522.000000.nc\n",
      "/psd3data/arctic/raven_process/asfs/2_level_product/seb.level2.0.melt-sleighsfs.10min.20240523.000000.nc\n",
      "/psd3data/arctic/raven_process/asfs/2_level_product/seb.level2.0.melt-sleighsfs.10min.20240524.000000.nc\n",
      "/psd3data/arctic/raven_process/asfs/2_level_product/seb.level2.0.melt-sleighsfs.10min.20240525.000000.nc\n",
      "/psd3data/arctic/raven_process/asfs/2_level_product/seb.level2.0.melt-sleighsfs.10min.20240526.000000.nc\n",
      "/psd3data/arctic/raven_process/asfs/2_level_product/seb.level2.0.melt-sleighsfs.10min.20240527.000000.nc\n",
      "/psd3data/arctic/raven_process/asfs/2_level_product/seb.level2.0.melt-sleighsfs.10min.20240528.000000.nc\n",
      "/psd3data/arctic/raven_process/asfs/2_level_product/seb.level2.0.melt-sleighsfs.10min.20240529.000000.nc\n",
      "/psd3data/arctic/raven_process/asfs/2_level_product/seb.level2.0.melt-sleighsfs.10min.20240530.000000.nc\n",
      "/psd3data/arctic/raven_process/asfs/2_level_product/seb.level2.0.melt-sleighsfs.10min.20240531.000000.nc\n",
      "/psd3data/arctic/raven_process/asfs/2_level_product/seb.level2.0.melt-sleighsfs.10min.20240601.000000.nc\n",
      "/psd3data/arctic/raven_process/asfs/2_level_product/seb.level2.0.melt-sleighsfs.10min.20240602.000000.nc\n",
      "/psd3data/arctic/raven_process/asfs/2_level_product/seb.level2.0.melt-sleighsfs.10min.20240603.000000.nc\n",
      "/psd3data/arctic/raven_process/asfs/2_level_product/seb.level2.0.melt-sleighsfs.10min.20240604.000000.nc\n",
      "/psd3data/arctic/raven_process/asfs/2_level_product/seb.level2.0.melt-sleighsfs.10min.20240605.000000.nc\n",
      "/psd3data/arctic/raven_process/asfs/2_level_product/seb.level2.0.melt-sleighsfs.10min.20240606.000000.nc\n",
      "/psd3data/arctic/raven_process/asfs/2_level_product/seb.level2.0.melt-sleighsfs.10min.20240607.000000.nc\n",
      "/psd3data/arctic/raven_process/asfs/2_level_product/seb.level2.0.melt-sleighsfs.10min.20240608.000000.nc\n",
      "/psd3data/arctic/raven_process/asfs/2_level_product/seb.level2.0.melt-sleighsfs.10min.20240609.000000.nc\n",
      "/psd3data/arctic/raven_process/asfs/2_level_product/seb.level2.0.melt-sleighsfs.10min.20240610.000000.nc\n",
      "/psd3data/arctic/raven_process/asfs/2_level_product/seb.level2.0.melt-sleighsfs.10min.20240611.000000.nc\n",
      "/psd3data/arctic/raven_process/asfs/2_level_product/seb.level2.0.melt-sleighsfs.10min.20240612.000000.nc\n",
      "/psd3data/arctic/raven_process/asfs/2_level_product/seb.level2.0.melt-sleighsfs.10min.20240613.000000.nc\n",
      "/psd3data/arctic/raven_process/asfs/2_level_product/seb.level2.0.melt-sleighsfs.10min.20240614.000000.nc\n",
      "/psd3data/arctic/raven_process/asfs/2_level_product/seb.level2.0.melt-sleighsfs.10min.20240615.000000.nc\n",
      "/psd3data/arctic/raven_process/asfs/2_level_product/seb.level2.0.melt-sleighsfs.10min.20240616.000000.nc\n",
      "/psd3data/arctic/raven_process/asfs/2_level_product/seb.level2.0.melt-sleighsfs.10min.20240617.000000.nc\n",
      "/psd3data/arctic/raven_process/asfs/2_level_product/seb.level2.0.melt-sleighsfs.10min.20240618.000000.nc\n",
      "/psd3data/arctic/raven_process/asfs/2_level_product/seb.level2.0.melt-sleighsfs.10min.20240619.000000.nc\n",
      "/psd3data/arctic/raven_process/asfs/2_level_product/seb.level2.0.melt-sleighsfs.10min.20240620.000000.nc\n",
      "/psd3data/arctic/raven_process/asfs/2_level_product/seb.level2.0.melt-sleighsfs.10min.20240621.000000.nc\n",
      "/psd3data/arctic/raven_process/asfs/2_level_product/seb.level2.0.melt-sleighsfs.10min.20240622.000000.nc\n",
      "/psd3data/arctic/raven_process/asfs/2_level_product/seb.level2.0.melt-sleighsfs.10min.20240623.000000.nc\n",
      "/psd3data/arctic/raven_process/asfs/2_level_product/seb.level2.0.melt-sleighsfs.10min.20240624.000000.nc\n",
      "/psd3data/arctic/raven_process/asfs/2_level_product/seb.level2.0.melt-sleighsfs.10min.20240625.000000.nc\n",
      "/psd3data/arctic/raven_process/asfs/2_level_product/seb.level2.0.melt-sleighsfs.10min.20240626.000000.nc\n",
      "/psd3data/arctic/raven_process/asfs/2_level_product/seb.level2.0.melt-sleighsfs.10min.20240627.000000.nc\n",
      "/psd3data/arctic/raven_process/asfs/2_level_product/seb.level2.0.melt-sleighsfs.10min.20240628.000000.nc\n",
      "/psd3data/arctic/raven_process/asfs/2_level_product/seb.level2.0.melt-sleighsfs.10min.20240629.000000.nc\n",
      "/psd3data/arctic/raven_process/asfs/2_level_product/seb.level2.0.melt-sleighsfs.10min.20240630.000000.nc\n",
      "/psd3data/arctic/raven_process/asfs/2_level_product/seb.level2.0.melt-sleighsfs.10min.20240701.000000.nc\n",
      "/psd3data/arctic/raven_process/asfs/2_level_product/seb.level2.0.melt-sleighsfs.10min.20240702.000000.nc\n",
      "/psd3data/arctic/raven_process/asfs/2_level_product/seb.level2.0.melt-sleighsfs.10min.20240703.000000.nc\n",
      "/psd3data/arctic/raven_process/asfs/2_level_product/seb.level2.0.melt-sleighsfs.10min.20240704.000000.nc\n",
      "/psd3data/arctic/raven_process/asfs/2_level_product/seb.level2.0.melt-sleighsfs.10min.20240705.000000.nc\n",
      "/psd3data/arctic/raven_process/asfs/2_level_product/seb.level2.0.melt-sleighsfs.10min.20240706.000000.nc\n",
      "/psd3data/arctic/raven_process/asfs/2_level_product/seb.level2.0.melt-sleighsfs.10min.20240707.000000.nc\n",
      "/psd3data/arctic/raven_process/asfs/2_level_product/seb.level2.0.melt-sleighsfs.10min.20240708.000000.nc\n",
      "/psd3data/arctic/raven_process/asfs/2_level_product/seb.level2.0.melt-sleighsfs.10min.20240709.000000.nc\n",
      "/psd3data/arctic/raven_process/asfs/2_level_product/seb.level2.0.melt-sleighsfs.10min.20240710.000000.nc\n",
      "/psd3data/arctic/raven_process/asfs/2_level_product/seb.level2.0.melt-sleighsfs.10min.20240711.000000.nc\n",
      "/psd3data/arctic/raven_process/asfs/2_level_product/seb.level2.0.melt-sleighsfs.10min.20240712.000000.nc\n",
      "/psd3data/arctic/raven_process/asfs/2_level_product/seb.level2.0.melt-sleighsfs.10min.20240713.000000.nc\n",
      "/psd3data/arctic/raven_process/asfs/2_level_product/seb.level2.0.melt-sleighsfs.10min.20240714.000000.nc\n",
      "/psd3data/arctic/raven_process/asfs/2_level_product/seb.level2.0.melt-sleighsfs.10min.20240715.000000.nc\n",
      "/psd3data/arctic/raven_process/asfs/2_level_product/seb.level2.0.melt-sleighsfs.10min.20240716.000000.nc\n",
      "/psd3data/arctic/raven_process/asfs/2_level_product/seb.level2.0.melt-sleighsfs.10min.20240717.000000.nc\n",
      "/psd3data/arctic/raven_process/asfs/2_level_product/seb.level2.0.melt-sleighsfs.10min.20240718.000000.nc\n",
      "/psd3data/arctic/raven_process/asfs/2_level_product/seb.level2.0.melt-sleighsfs.10min.20240719.000000.nc\n",
      "/psd3data/arctic/raven_process/asfs/2_level_product/seb.level2.0.melt-sleighsfs.10min.20240720.000000.nc\n",
      "/psd3data/arctic/raven_process/asfs/2_level_product/seb.level2.0.melt-sleighsfs.10min.20240721.000000.nc\n",
      "/psd3data/arctic/raven_process/asfs/2_level_product/seb.level2.0.melt-sleighsfs.10min.20240722.000000.nc\n",
      "/psd3data/arctic/raven_process/asfs/2_level_product/seb.level2.0.melt-sleighsfs.10min.20240723.000000.nc\n",
      "/psd3data/arctic/raven_process/asfs/2_level_product/seb.level2.0.melt-sleighsfs.10min.20240724.000000.nc\n",
      "/psd3data/arctic/raven_process/asfs/2_level_product/seb.level2.0.melt-sleighsfs.10min.20240725.000000.nc\n",
      "/psd3data/arctic/raven_process/asfs/2_level_product/seb.level2.0.melt-sleighsfs.10min.20240726.000000.nc\n",
      "/psd3data/arctic/raven_process/asfs/2_level_product/seb.level2.0.melt-sleighsfs.10min.20240727.000000.nc\n",
      "/psd3data/arctic/raven_process/asfs/2_level_product/seb.level2.0.melt-sleighsfs.10min.20240728.000000.nc\n",
      "/psd3data/arctic/raven_process/asfs/2_level_product/seb.level2.0.melt-sleighsfs.10min.20240729.000000.nc\n",
      "/psd3data/arctic/raven_process/asfs/2_level_product/seb.level2.0.melt-sleighsfs.10min.20240730.000000.nc\n",
      "/psd3data/arctic/raven_process/asfs/2_level_product/seb.level2.0.melt-sleighsfs.10min.20240801.000000.nc\n",
      "/psd3data/arctic/raven_process/asfs/2_level_product/seb.level2.0.melt-sleighsfs.10min.20240802.000000.nc\n",
      "/psd3data/arctic/raven_process/asfs/2_level_product/seb.level2.0.melt-sleighsfs.10min.20240803.000000.nc\n",
      "/psd3data/arctic/raven_process/asfs/2_level_product/seb.level2.0.melt-sleighsfs.10min.20240804.000000.nc\n",
      "/psd3data/arctic/raven_process/asfs/2_level_product/seb.level2.0.melt-sleighsfs.10min.20240805.000000.nc\n",
      "/psd3data/arctic/raven_process/asfs/2_level_product/seb.level2.0.melt-sleighsfs.10min.20240806.000000.nc\n",
      "/psd3data/arctic/raven_process/asfs/2_level_product/seb.level2.0.melt-sleighsfs.10min.20240807.000000.nc\n",
      "/psd3data/arctic/raven_process/asfs/2_level_product/seb.level2.0.melt-sleighsfs.10min.20240808.000000.nc\n",
      "/psd3data/arctic/raven_process/asfs/2_level_product/seb.level2.0.melt-sleighsfs.10min.20240809.000000.nc\n",
      "/psd3data/arctic/raven_process/asfs/2_level_product/seb.level2.0.melt-sleighsfs.10min.20240810.000000.nc\n",
      "/psd3data/arctic/raven_process/asfs/2_level_product/seb.level2.0.melt-sleighsfs.10min.20240811.000000.nc\n",
      "/psd3data/arctic/raven_process/asfs/2_level_product/seb.level2.0.melt-sleighsfs.10min.20240812.000000.nc\n",
      "/psd3data/arctic/raven_process/asfs/2_level_product/seb.level2.0.melt-sleighsfs.10min.20240813.000000.nc\n",
      "/psd3data/arctic/raven_process/asfs/2_level_product/seb.level2.0.melt-sleighsfs.10min.20240814.000000.nc\n"
     ]
    }
   ],
   "source": [
    "# turn into function later\n",
    "asfs_filepath = '/psd3data/arctic/raven_process/asfs/2_level_product/'\n",
    "asfs_lev2_files = glob.glob(asfs_filepath+'seb.level2.0.melt-sleighsfs.10min.*.nc')\n",
    "asfs_lev2_files.sort()\n",
    "# asfs_lev2_files = asfs_lev2_files[12:] # early files don't have skin_temp_surface?\n",
    "\n",
    "# vaisala_T_Avg = average of the air temperature during the 1 min averaging interval\n",
    "\n",
    "lev1_slow_vars = ['up_short_hemisp_qc','up_long_hemisp_qc','down_short_hemisp_qc','down_long_hemisp_qc','subsurface_heat_flux_A_qc',\n",
    "                  'subsurface_heat_flux_B_qc','skin_temp_surface_qc','temp_qc','snow_depth_qc','zenith_true_qc',\n",
    "                  'down_short_diffuse','down_short_direct','up_short_hemisp','up_long_hemisp','down_short_hemisp','down_long_hemisp',\n",
    "                  'snow_depth','temp','brightness_temp_surface','skin_temp_surface','subsurface_heat_flux_A','subsurface_heat_flux_B',\n",
    "                  'subsurface_heat_flux_C','zenith_true','base_time','time']\n",
    "\n",
    "asfs_data_lev2 = {}\n",
    "\n",
    "for fname in asfs_lev2_files[:]:\n",
    "    print(fname)\n",
    "\n",
    "    fdic = load_netcdf(fname, lev1_slow_vars)\n",
    "    # print(fdic['time_unit'])\n",
    "    fstart_time = dt.strptime(fdic['time_unit'], 'seconds since %Y-%m-%dT%H:%M:%S.000000')\n",
    "    fdic['dates'] = np.asarray([fstart_time+datetime.timedelta(seconds=int(m)) for m in fdic['time']])\n",
    "\n",
    "    for var in lev1_slow_vars[:-2]+['dates']:\n",
    "        if var not in asfs_data_lev2:\n",
    "            asfs_data_lev2[var] = fdic[var]\n",
    "        else:\n",
    "            asfs_data_lev2[var] = np.ma.concatenate( (asfs_data_lev2[var], fdic[var]), axis=0 )\n",
    "asfs_data_lev2['net_short_hemisp'] = asfs_data_lev2['down_short_hemisp'] - asfs_data_lev2['up_short_hemisp']\n",
    "asfs_data_lev2['albedo'] =  asfs_data_lev2['up_short_hemisp']/asfs_data_lev2['down_short_hemisp']"
   ]
  },
  {
   "cell_type": "code",
   "execution_count": 8,
   "id": "a950cbac-07ed-4869-8b8a-b0b0a8f0a704",
   "metadata": {},
   "outputs": [],
   "source": [
    "with np.load('/home/asledd/ICECAPS/Raven_SW-correct-tskin_emis985_all-times_20250113.npz') as npz:\n",
    "    asfs_data_lev2['skin_temp'] = np.ma.MaskedArray(**npz)"
   ]
  },
  {
   "cell_type": "code",
   "execution_count": 17,
   "id": "5ef4224e-de0a-4154-a88a-33791b9367c3",
   "metadata": {},
   "outputs": [
    {
     "name": "stdout",
     "output_type": "stream",
     "text": [
      "[256.6253829608051 256.4757024032753] [datetime.datetime(2024, 5, 20, 0, 0)\n",
      " datetime.datetime(2024, 5, 20, 0, 10)]\n"
     ]
    }
   ],
   "source": [
    "print(asfs_data_lev2['skin_temp'][:2], asfs_data_lev2['dates'][:2])"
   ]
  },
  {
   "cell_type": "code",
   "execution_count": 16,
   "id": "96a20d7e-7f10-4ae2-8c7b-af766bc1bfd1",
   "metadata": {},
   "outputs": [],
   "source": [
    "with open('Raven_2024_corrected_skin_temp.csv', 'w', ) as myfile:\n",
    "    wr = csv.writer(myfile, quoting=csv.QUOTE_ALL)\n",
    "    myfile.write(\"{},{}\\n\".format(\"Dates\", \"Skin temperature [C]\"))\n",
    "    for item1, item2 in zip(asfs_data_lev2['dates'], asfs_data_lev2['skin_temp']):\n",
    "        wr.writerow([item1, item2])"
   ]
  },
  {
   "cell_type": "code",
   "execution_count": null,
   "id": "1750f650-9cd2-49a3-97b8-5bd446a00b79",
   "metadata": {},
   "outputs": [],
   "source": []
  }
 ],
 "metadata": {
  "kernelspec": {
   "display_name": "Python 3 (ipykernel)",
   "language": "python",
   "name": "python3"
  },
  "language_info": {
   "codemirror_mode": {
    "name": "ipython",
    "version": 3
   },
   "file_extension": ".py",
   "mimetype": "text/x-python",
   "name": "python",
   "nbconvert_exporter": "python",
   "pygments_lexer": "ipython3",
   "version": "3.9.18"
  }
 },
 "nbformat": 4,
 "nbformat_minor": 5
}
