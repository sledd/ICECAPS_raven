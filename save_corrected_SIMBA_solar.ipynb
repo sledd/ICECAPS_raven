{
 "cells": [
  {
   "cell_type": "markdown",
   "id": "670880ac-d3d8-4f0f-8c8f-bc0f75593c21",
   "metadata": {},
   "source": [
    "File to add corrected solar temperature profiles to netcdf Michael shared with combined and corrected simba temperatures."
   ]
  },
  {
   "cell_type": "code",
   "execution_count": 2,
   "id": "1ddd2300-79eb-4bed-b29c-860a3a89efd1",
   "metadata": {},
   "outputs": [],
   "source": [
    "import numpy as np\n",
    "import matplotlib.pyplot as plt\n",
    "from netCDF4 import Dataset\n",
    "from scipy import interpolate\n",
    "from datetime import datetime as dt\n",
    "# import cmocean\n",
    "import datetime\n",
    "# from matplotlib.dates import DateFormatter\n",
    "# import glob\n",
    "# import math\n",
    "# from astropy.convolution import convolve\n",
    "# from matplotlib.cm import ScalarMappable\n",
    "# from matplotlib.colors import Normalize\n",
    "# import matplotlib as mpl\n",
    "# import matplotlib.dates as mdates\n",
    "# from scipy.optimize import curve_fit\n",
    "import pandas as pd\n",
    "# import csv\n",
    "# myFmt = mdates.DateFormatter('%m-%d')"
   ]
  },
  {
   "cell_type": "code",
   "execution_count": 5,
   "id": "ff149b4d-b780-42bf-a68d-17d7cac3cf90",
   "metadata": {},
   "outputs": [],
   "source": [
    "def load_netcdf(filepath, in_vars):\n",
    "    \"\"\" open netcdf file, load variables (in_vars should be a list) and\n",
    "        output dictionary of variables\"\"\"\n",
    "\n",
    "    out_vars = {}\n",
    "\n",
    "    open_netcdf = Dataset(filepath, mode = 'r')\n",
    "    if len(in_vars)>0:\n",
    "        for var in in_vars:\n",
    "            out_vars[var] = open_netcdf.variables[var][:]\n",
    "    else:\n",
    "        for var in open_netcdf.variables.keys():\n",
    "            out_vars[var] = open_netcdf.variables[var][:]\n",
    "\n",
    "    try:\n",
    "        out_vars['time_unit'] = open_netcdf.variables['time'].units\n",
    "    except:\n",
    "        None\n",
    "    open_netcdf.close()\n",
    "\n",
    "    return out_vars"
   ]
  },
  {
   "cell_type": "code",
   "execution_count": 3,
   "id": "e9ab045a-f2c8-439a-aeb8-d4747554366a",
   "metadata": {},
   "outputs": [],
   "source": [
    "## simba surface that should also be saved?\n",
    "## SIMBA surface from SIMBA_surface_detection_v2_split_vertical.ipynb\n",
    "df = pd.read_csv('Raven2024_SIMBA_sfc_id_combined-corrected-maxheight_raw-despiked-72h-05threshold_20250416.csv')\n",
    "\n",
    "simba_sfc_dates = np.array([dt.strptime(d, '%Y-%m-%d %H:%M:%S') for d in df['time'].values])       \n",
    "simba_sfc_in = df['max_index'].values\n"
   ]
  },
  {
   "cell_type": "code",
   "execution_count": 14,
   "id": "455fd3d9-6e34-4ac3-a79e-cdd298023bbc",
   "metadata": {},
   "outputs": [],
   "source": [
    "simba_filepath = '/psd3data/arctic/sledd/Raven_simba/'\n",
    "## new adjusted temps (no smoothing)\n",
    "# simba_fname = 'firnprofile-combined-corrected.sled.level2.beta.15min.20240517-20240814.nc'\n",
    "simba_fname = 'firnprofile-combined-corrected.sled.level2.beta.15min.20240517-20240814_created_Apr8_2025.nc'\n",
    "\n",
    "season_data = {}\n",
    "varnames = ['temperature','initial_height','time']\n",
    "fdic = load_netcdf(simba_filepath+simba_fname, varnames)\n",
    "\n",
    "fstart_time = dt.strptime(fdic['time_unit'], 'minutes since %Y-%m-%d')\n",
    "\n",
    "fdic['dates'] = np.asarray([fstart_time+datetime.timedelta(minutes=int(m)) for m in fdic['time']])\n",
    "\n",
    "for var in ['temperature','dates','initial_height']:\n",
    "    season_data[var] = fdic[var]\n",
    "\n",
    "season_data['height'] = season_data['initial_height'][::-1]\n",
    "season_data['temperature'] = season_data['temperature'][:,::-1]"
   ]
  },
  {
   "cell_type": "code",
   "execution_count": 8,
   "id": "7aa08f28-f0f0-4be3-8de9-964c42cdeb12",
   "metadata": {},
   "outputs": [],
   "source": [
    "simba_filepath = '/psd3data/arctic/sledd/Raven_simba/'\n",
    "fn = 'firnprofile_maxheight_solar-correction_created_20250417.nc'\n",
    "\n",
    "season_data_solar = {}\n",
    "varnames = ['temp','initial_height','time']\n",
    "fdic = load_netcdf(fn, varnames)\n",
    "\n",
    "fdic['dates'] = np.asarray([datetime.datetime(1970,1,1)+datetime.timedelta(seconds=int(s)) for s in fdic['time']])\n",
    "season_data_solar['seconds'] = fdic['time']\n",
    "\n",
    "for var in ['temperature','dates','initial_height']:\n",
    "    if var=='temperature':\n",
    "        season_data_solar['temperature'] = fdic['temp']\n",
    "    else:\n",
    "        season_data_solar[var] = fdic[var]\n",
    "season_data_solar['height'] = season_data_solar['initial_height']"
   ]
  },
  {
   "cell_type": "code",
   "execution_count": 10,
   "id": "d87b1254-c0a8-4de4-9d06-ca9894e59f01",
   "metadata": {},
   "outputs": [
    {
     "name": "stdout",
     "output_type": "stream",
     "text": [
      "michael 2024-05-17 00:00:00\n",
      "anne 2024-05-18 00:15:00\n"
     ]
    }
   ],
   "source": [
    "print('michael',season_data['dates'][0])\n",
    "print('anne',season_data_solar['dates'][0])"
   ]
  },
  {
   "cell_type": "code",
   "execution_count": 11,
   "id": "7e12782c-33ac-4e9a-a682-6b2baecac6e4",
   "metadata": {},
   "outputs": [
    {
     "name": "stdout",
     "output_type": "stream",
     "text": [
      "michael 2024-08-14 23:45:00\n",
      "anne 2024-07-24 23:45:00\n"
     ]
    }
   ],
   "source": [
    "print('michael',season_data['dates'][-1])\n",
    "print('anne',season_data_solar['dates'][-1])"
   ]
  },
  {
   "cell_type": "code",
   "execution_count": 15,
   "id": "99ccdb9e-566e-4e30-886b-8093c2415c25",
   "metadata": {},
   "outputs": [
    {
     "name": "stdout",
     "output_type": "stream",
     "text": [
      "(160,) (160,)\n"
     ]
    }
   ],
   "source": [
    "print(season_data_solar['height'].shape, season_data['height'].shape)"
   ]
  },
  {
   "cell_type": "code",
   "execution_count": 19,
   "id": "d3d1a5a7-6f77-41cf-8bb6-a8d7092d01be",
   "metadata": {},
   "outputs": [
    {
     "name": "stdout",
     "output_type": "stream",
     "text": [
      "97 2016 (6527,)\n",
      "8640 (8640,)\n"
     ]
    }
   ],
   "source": [
    "pre_add_time = len(np.where(season_data['dates']<season_data_solar['dates'][0])[0])\n",
    "post_add_time = len(np.where(season_data['dates']>season_data_solar['dates'][-1])[0])\n",
    "\n",
    "print(pre_add_time, post_add_time, season_data_solar['dates'].shape, )\n",
    "print(pre_add_time+post_add_time+season_data_solar['dates'].shape[0], season_data['dates'].shape)"
   ]
  },
  {
   "cell_type": "code",
   "execution_count": 24,
   "id": "3a2d33ae-7384-4286-8d53-cfe6f7f2563a",
   "metadata": {},
   "outputs": [
    {
     "name": "stdout",
     "output_type": "stream",
     "text": [
      "(8640, 160) (8640, 160)\n"
     ]
    }
   ],
   "source": [
    "pre_array = np.full((pre_add_time, season_data['height'].shape[0]), np.nan)\n",
    "post_array = np.full((post_add_time, season_data['height'].shape[0]), np.nan)\n",
    "\n",
    "concat_solar_temp = np.ma.concatenate( (pre_array, season_data_solar['temperature']), axis=0)\n",
    "concat_solar_temp = np.ma.concatenate( (concat_solar_temp, post_array), axis=0)\n",
    "concat_solar_temp = np.ma.masked_invalid(concat_solar_temp)\n",
    "\n",
    "print(concat_solar_temp.shape, season_data['temperature'].shape)"
   ]
  },
  {
   "cell_type": "code",
   "execution_count": 25,
   "id": "7ded8dc8-2ac9-4f99-b073-11e4a896f747",
   "metadata": {},
   "outputs": [
    {
     "data": {
      "image/png": "[encoded data removed]",
      "text/plain": [
       "<Figure size 640x480 with 1 Axes>"
      ]
     },
     "metadata": {},
     "output_type": "display_data"
    }
   ],
   "source": [
    "plt.contourf(season_data['dates'], season_data['height'], np.swapaxes(concat_solar_temp, 0,1), levels=np.linspace(-20,0,21), extend='both')\n",
    "plt.show()"
   ]
  },
  {
   "cell_type": "code",
   "execution_count": 28,
   "id": "335bc4cb-9912-4ac3-8f3e-f794cd6be463",
   "metadata": {},
   "outputs": [],
   "source": [
    "import netCDF4 as nc\n",
    "# toexclude = ['ExcludeVar1', 'ExcludeVar2']\n",
    "\n",
    "in_fn = 'firnprofile-combined-corrected.sled.level2.beta.15min.20240517-20240814_created_Apr8_2025.nc'\n",
    "\n",
    "out_fn = 'firnprofile-combined-corrected_solar-corrected.sled.level2.beta.15min.20240517-20240814_created_Apr25_2025.nc'\n",
    "\n",
    "with nc.Dataset(simba_filepath+in_fn) as src, nc.Dataset(out_fn, \"w\") as dst:\n",
    "    # copy global attributes all at once via dictionary\n",
    "    dst.setncatts(src.__dict__)\n",
    "    # copy dimensions\n",
    "    for name, dimension in src.dimensions.items():\n",
    "        dst.createDimension(\n",
    "            name, (len(dimension) if not dimension.isunlimited() else None))\n",
    "    # copy all file data except for the excluded\n",
    "    for name, variable in src.variables.items():\n",
    "        # if name not in toexclude:\n",
    "        x = dst.createVariable(name, variable.datatype, variable.dimensions)\n",
    "        dst[name][:] = src[name][:]\n",
    "        # copy variable attributes all at once via dictionary\n",
    "        dst[name].setncatts(src[name].__dict__)\n",
    "\n",
    "        if name=='temperature':\n",
    "            # add corrected solar temperature\n",
    "            x = dst.createVariable('temperature_solar_corrected', variable.datatype, variable.dimensions)\n",
    "            dst['temperature_solar_corrected'][:] = concat_solar_temp\n",
    "            dst['temperature_solar_corrected'].setncatts(src[name].__dict__)\n",
    "            dst['temperature_solar_corrected'].long_name = 'temperature corrected using solar radiation and wind speed'"
   ]
  },
  {
   "cell_type": "code",
   "execution_count": null,
   "id": "9451c1b0-9b47-4e88-ba26-eb676b19b3d4",
   "metadata": {},
   "outputs": [],
   "source": []
  }
 ],
 "metadata": {
  "kernelspec": {
   "display_name": "Python 3 (ipykernel)",
   "language": "python",
   "name": "python3"
  },
  "language_info": {
   "codemirror_mode": {
    "name": "ipython",
    "version": 3
   },
   "file_extension": ".py",
   "mimetype": "text/x-python",
   "name": "python",
   "nbconvert_exporter": "python",
   "pygments_lexer": "ipython3",
   "version": "3.9.18"
  }
 },
 "nbformat": 4,
 "nbformat_minor": 5
}
